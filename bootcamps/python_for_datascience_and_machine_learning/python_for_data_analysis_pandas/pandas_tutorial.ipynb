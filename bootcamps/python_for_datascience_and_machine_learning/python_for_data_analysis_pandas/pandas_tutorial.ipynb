{
 "cells": [
  {
   "cell_type": "code",
   "execution_count": 1,
   "metadata": {},
   "outputs": [],
   "source": [
    "import pandas as pd"
   ]
  },
  {
   "cell_type": "code",
   "execution_count": 2,
   "metadata": {},
   "outputs": [],
   "source": [
    "path = r\"D:\\learning_corner\\github\\python\\bootcamps\\python_for_datascience_and_machine_learning\\python_for_data_analysis_pandas\\housing.csv\""
   ]
  },
  {
   "cell_type": "code",
   "execution_count": 7,
   "metadata": {},
   "outputs": [],
   "source": [
    "df = pd.read_csv(path)"
   ]
  },
  {
   "cell_type": "code",
   "execution_count": 8,
   "metadata": {},
   "outputs": [
    {
     "data": {
      "text/html": [
       "<div>\n",
       "<style scoped>\n",
       "    .dataframe tbody tr th:only-of-type {\n",
       "        vertical-align: middle;\n",
       "    }\n",
       "\n",
       "    .dataframe tbody tr th {\n",
       "        vertical-align: top;\n",
       "    }\n",
       "\n",
       "    .dataframe thead th {\n",
       "        text-align: right;\n",
       "    }\n",
       "</style>\n",
       "<table border=\"1\" class=\"dataframe\">\n",
       "  <thead>\n",
       "    <tr style=\"text-align: right;\">\n",
       "      <th></th>\n",
       "      <th>longitude</th>\n",
       "      <th>latitude</th>\n",
       "      <th>housing_median_age</th>\n",
       "      <th>total_rooms</th>\n",
       "      <th>total_bedrooms</th>\n",
       "      <th>population</th>\n",
       "      <th>households</th>\n",
       "      <th>median_income</th>\n",
       "      <th>median_house_value</th>\n",
       "      <th>ocean_proximity</th>\n",
       "    </tr>\n",
       "  </thead>\n",
       "  <tbody>\n",
       "    <tr>\n",
       "      <td>0</td>\n",
       "      <td>-122.23</td>\n",
       "      <td>37.88</td>\n",
       "      <td>41</td>\n",
       "      <td>880</td>\n",
       "      <td>129.0</td>\n",
       "      <td>322</td>\n",
       "      <td>126</td>\n",
       "      <td>8.3252</td>\n",
       "      <td>452600.0</td>\n",
       "      <td>NEAR BAY</td>\n",
       "    </tr>\n",
       "    <tr>\n",
       "      <td>1</td>\n",
       "      <td>-122.22</td>\n",
       "      <td>37.86</td>\n",
       "      <td>21</td>\n",
       "      <td>7099</td>\n",
       "      <td>1106.0</td>\n",
       "      <td>2401</td>\n",
       "      <td>1138</td>\n",
       "      <td>8.3014</td>\n",
       "      <td>358500.0</td>\n",
       "      <td>NEAR BAY</td>\n",
       "    </tr>\n",
       "    <tr>\n",
       "      <td>2</td>\n",
       "      <td>-122.24</td>\n",
       "      <td>37.85</td>\n",
       "      <td>52</td>\n",
       "      <td>1467</td>\n",
       "      <td>190.0</td>\n",
       "      <td>496</td>\n",
       "      <td>177</td>\n",
       "      <td>7.2574</td>\n",
       "      <td>352100.0</td>\n",
       "      <td>NEAR BAY</td>\n",
       "    </tr>\n",
       "    <tr>\n",
       "      <td>3</td>\n",
       "      <td>-122.25</td>\n",
       "      <td>37.85</td>\n",
       "      <td>52</td>\n",
       "      <td>1274</td>\n",
       "      <td>235.0</td>\n",
       "      <td>558</td>\n",
       "      <td>219</td>\n",
       "      <td>5.6431</td>\n",
       "      <td>341300.0</td>\n",
       "      <td>NEAR BAY</td>\n",
       "    </tr>\n",
       "    <tr>\n",
       "      <td>4</td>\n",
       "      <td>-122.25</td>\n",
       "      <td>37.85</td>\n",
       "      <td>52</td>\n",
       "      <td>1627</td>\n",
       "      <td>280.0</td>\n",
       "      <td>565</td>\n",
       "      <td>259</td>\n",
       "      <td>3.8462</td>\n",
       "      <td>342200.0</td>\n",
       "      <td>NEAR BAY</td>\n",
       "    </tr>\n",
       "    <tr>\n",
       "      <td>...</td>\n",
       "      <td>...</td>\n",
       "      <td>...</td>\n",
       "      <td>...</td>\n",
       "      <td>...</td>\n",
       "      <td>...</td>\n",
       "      <td>...</td>\n",
       "      <td>...</td>\n",
       "      <td>...</td>\n",
       "      <td>...</td>\n",
       "      <td>...</td>\n",
       "    </tr>\n",
       "    <tr>\n",
       "      <td>5981</td>\n",
       "      <td>-117.74</td>\n",
       "      <td>34.10</td>\n",
       "      <td>29</td>\n",
       "      <td>2742</td>\n",
       "      <td>488.0</td>\n",
       "      <td>2477</td>\n",
       "      <td>532</td>\n",
       "      <td>3.5072</td>\n",
       "      <td>121900.0</td>\n",
       "      <td>INLAND</td>\n",
       "    </tr>\n",
       "    <tr>\n",
       "      <td>5982</td>\n",
       "      <td>-117.75</td>\n",
       "      <td>34.10</td>\n",
       "      <td>21</td>\n",
       "      <td>8069</td>\n",
       "      <td>2174.0</td>\n",
       "      <td>4369</td>\n",
       "      <td>2036</td>\n",
       "      <td>3.2756</td>\n",
       "      <td>156800.0</td>\n",
       "      <td>INLAND</td>\n",
       "    </tr>\n",
       "    <tr>\n",
       "      <td>5983</td>\n",
       "      <td>-117.71</td>\n",
       "      <td>34.12</td>\n",
       "      <td>20</td>\n",
       "      <td>11250</td>\n",
       "      <td>1893.0</td>\n",
       "      <td>4952</td>\n",
       "      <td>1859</td>\n",
       "      <td>5.6785</td>\n",
       "      <td>239500.0</td>\n",
       "      <td>INLAND</td>\n",
       "    </tr>\n",
       "    <tr>\n",
       "      <td>5984</td>\n",
       "      <td>-117.73</td>\n",
       "      <td>34.12</td>\n",
       "      <td>26</td>\n",
       "      <td>6459</td>\n",
       "      <td>894.0</td>\n",
       "      <td>2487</td>\n",
       "      <td>885</td>\n",
       "      <td>6.2089</td>\n",
       "      <td>261800.0</td>\n",
       "      <td>INLAND</td>\n",
       "    </tr>\n",
       "    <tr>\n",
       "      <td>5985</td>\n",
       "      <td>-117.71</td>\n",
       "      <td>34.10</td>\n",
       "      <td>41</td>\n",
       "      <td>555</td>\n",
       "      <td>130.0</td>\n",
       "      <td>1492</td>\n",
       "      <td>123</td>\n",
       "      <td>2.0000</td>\n",
       "      <td>NaN</td>\n",
       "      <td>NaN</td>\n",
       "    </tr>\n",
       "  </tbody>\n",
       "</table>\n",
       "<p>5986 rows × 10 columns</p>\n",
       "</div>"
      ],
      "text/plain": [
       "      longitude  latitude  housing_median_age  total_rooms  total_bedrooms  \\\n",
       "0       -122.23     37.88                  41          880           129.0   \n",
       "1       -122.22     37.86                  21         7099          1106.0   \n",
       "2       -122.24     37.85                  52         1467           190.0   \n",
       "3       -122.25     37.85                  52         1274           235.0   \n",
       "4       -122.25     37.85                  52         1627           280.0   \n",
       "...         ...       ...                 ...          ...             ...   \n",
       "5981    -117.74     34.10                  29         2742           488.0   \n",
       "5982    -117.75     34.10                  21         8069          2174.0   \n",
       "5983    -117.71     34.12                  20        11250          1893.0   \n",
       "5984    -117.73     34.12                  26         6459           894.0   \n",
       "5985    -117.71     34.10                  41          555           130.0   \n",
       "\n",
       "      population  households  median_income  median_house_value  \\\n",
       "0            322         126         8.3252            452600.0   \n",
       "1           2401        1138         8.3014            358500.0   \n",
       "2            496         177         7.2574            352100.0   \n",
       "3            558         219         5.6431            341300.0   \n",
       "4            565         259         3.8462            342200.0   \n",
       "...          ...         ...            ...                 ...   \n",
       "5981        2477         532         3.5072            121900.0   \n",
       "5982        4369        2036         3.2756            156800.0   \n",
       "5983        4952        1859         5.6785            239500.0   \n",
       "5984        2487         885         6.2089            261800.0   \n",
       "5985        1492         123         2.0000                 NaN   \n",
       "\n",
       "     ocean_proximity  \n",
       "0           NEAR BAY  \n",
       "1           NEAR BAY  \n",
       "2           NEAR BAY  \n",
       "3           NEAR BAY  \n",
       "4           NEAR BAY  \n",
       "...              ...  \n",
       "5981          INLAND  \n",
       "5982          INLAND  \n",
       "5983          INLAND  \n",
       "5984          INLAND  \n",
       "5985             NaN  \n",
       "\n",
       "[5986 rows x 10 columns]"
      ]
     },
     "execution_count": 8,
     "metadata": {},
     "output_type": "execute_result"
    }
   ],
   "source": [
    "df"
   ]
  },
  {
   "cell_type": "code",
   "execution_count": 9,
   "metadata": {},
   "outputs": [
    {
     "data": {
      "text/plain": [
       "Index(['longitude', 'latitude', 'housing_median_age', 'total_rooms',\n",
       "       'total_bedrooms', 'population', 'households', 'median_income',\n",
       "       'median_house_value', 'ocean_proximity'],\n",
       "      dtype='object')"
      ]
     },
     "execution_count": 9,
     "metadata": {},
     "output_type": "execute_result"
    }
   ],
   "source": [
    "df.columns"
   ]
  },
  {
   "cell_type": "code",
   "execution_count": 10,
   "metadata": {},
   "outputs": [
    {
     "data": {
      "text/plain": [
       "RangeIndex(start=0, stop=5986, step=1)"
      ]
     },
     "execution_count": 10,
     "metadata": {},
     "output_type": "execute_result"
    }
   ],
   "source": [
    "df.index"
   ]
  },
  {
   "cell_type": "code",
   "execution_count": 11,
   "metadata": {},
   "outputs": [
    {
     "data": {
      "text/plain": [
       "5986"
      ]
     },
     "execution_count": 11,
     "metadata": {},
     "output_type": "execute_result"
    }
   ],
   "source": [
    "len(df)"
   ]
  },
  {
   "cell_type": "code",
   "execution_count": 15,
   "metadata": {},
   "outputs": [
    {
     "data": {
      "text/plain": [
       "0       8.3252\n",
       "1       8.3014\n",
       "2       7.2574\n",
       "3       5.6431\n",
       "4       3.8462\n",
       "         ...  \n",
       "5981    3.5072\n",
       "5982    3.2756\n",
       "5983    5.6785\n",
       "5984    6.2089\n",
       "5985    2.0000\n",
       "Name: median_income, Length: 5986, dtype: float64"
      ]
     },
     "execution_count": 15,
     "metadata": {},
     "output_type": "execute_result"
    }
   ],
   "source": [
    "df['median_income']"
   ]
  },
  {
   "cell_type": "code",
   "execution_count": 17,
   "metadata": {},
   "outputs": [
    {
     "data": {
      "text/html": [
       "<div>\n",
       "<style scoped>\n",
       "    .dataframe tbody tr th:only-of-type {\n",
       "        vertical-align: middle;\n",
       "    }\n",
       "\n",
       "    .dataframe tbody tr th {\n",
       "        vertical-align: top;\n",
       "    }\n",
       "\n",
       "    .dataframe thead th {\n",
       "        text-align: right;\n",
       "    }\n",
       "</style>\n",
       "<table border=\"1\" class=\"dataframe\">\n",
       "  <thead>\n",
       "    <tr style=\"text-align: right;\">\n",
       "      <th></th>\n",
       "      <th>longitude</th>\n",
       "      <th>population</th>\n",
       "    </tr>\n",
       "  </thead>\n",
       "  <tbody>\n",
       "    <tr>\n",
       "      <td>0</td>\n",
       "      <td>-122.23</td>\n",
       "      <td>322</td>\n",
       "    </tr>\n",
       "    <tr>\n",
       "      <td>1</td>\n",
       "      <td>-122.22</td>\n",
       "      <td>2401</td>\n",
       "    </tr>\n",
       "    <tr>\n",
       "      <td>2</td>\n",
       "      <td>-122.24</td>\n",
       "      <td>496</td>\n",
       "    </tr>\n",
       "    <tr>\n",
       "      <td>3</td>\n",
       "      <td>-122.25</td>\n",
       "      <td>558</td>\n",
       "    </tr>\n",
       "    <tr>\n",
       "      <td>4</td>\n",
       "      <td>-122.25</td>\n",
       "      <td>565</td>\n",
       "    </tr>\n",
       "    <tr>\n",
       "      <td>...</td>\n",
       "      <td>...</td>\n",
       "      <td>...</td>\n",
       "    </tr>\n",
       "    <tr>\n",
       "      <td>5981</td>\n",
       "      <td>-117.74</td>\n",
       "      <td>2477</td>\n",
       "    </tr>\n",
       "    <tr>\n",
       "      <td>5982</td>\n",
       "      <td>-117.75</td>\n",
       "      <td>4369</td>\n",
       "    </tr>\n",
       "    <tr>\n",
       "      <td>5983</td>\n",
       "      <td>-117.71</td>\n",
       "      <td>4952</td>\n",
       "    </tr>\n",
       "    <tr>\n",
       "      <td>5984</td>\n",
       "      <td>-117.73</td>\n",
       "      <td>2487</td>\n",
       "    </tr>\n",
       "    <tr>\n",
       "      <td>5985</td>\n",
       "      <td>-117.71</td>\n",
       "      <td>1492</td>\n",
       "    </tr>\n",
       "  </tbody>\n",
       "</table>\n",
       "<p>5986 rows × 2 columns</p>\n",
       "</div>"
      ],
      "text/plain": [
       "      longitude  population\n",
       "0       -122.23         322\n",
       "1       -122.22        2401\n",
       "2       -122.24         496\n",
       "3       -122.25         558\n",
       "4       -122.25         565\n",
       "...         ...         ...\n",
       "5981    -117.74        2477\n",
       "5982    -117.75        4369\n",
       "5983    -117.71        4952\n",
       "5984    -117.73        2487\n",
       "5985    -117.71        1492\n",
       "\n",
       "[5986 rows x 2 columns]"
      ]
     },
     "execution_count": 17,
     "metadata": {},
     "output_type": "execute_result"
    }
   ],
   "source": [
    "df.iloc[:, [0,5]]"
   ]
  },
  {
   "cell_type": "code",
   "execution_count": 18,
   "metadata": {},
   "outputs": [
    {
     "data": {
      "text/plain": [
       "190.0"
      ]
     },
     "execution_count": 18,
     "metadata": {},
     "output_type": "execute_result"
    }
   ],
   "source": [
    "df.iloc[2, 4]"
   ]
  },
  {
   "cell_type": "code",
   "execution_count": 19,
   "metadata": {},
   "outputs": [],
   "source": [
    "df.iloc[2,4] = 900"
   ]
  },
  {
   "cell_type": "code",
   "execution_count": 22,
   "metadata": {},
   "outputs": [
    {
     "data": {
      "text/html": [
       "<div>\n",
       "<style scoped>\n",
       "    .dataframe tbody tr th:only-of-type {\n",
       "        vertical-align: middle;\n",
       "    }\n",
       "\n",
       "    .dataframe tbody tr th {\n",
       "        vertical-align: top;\n",
       "    }\n",
       "\n",
       "    .dataframe thead th {\n",
       "        text-align: right;\n",
       "    }\n",
       "</style>\n",
       "<table border=\"1\" class=\"dataframe\">\n",
       "  <thead>\n",
       "    <tr style=\"text-align: right;\">\n",
       "      <th></th>\n",
       "      <th>longitude</th>\n",
       "      <th>latitude</th>\n",
       "      <th>housing_median_age</th>\n",
       "      <th>total_rooms</th>\n",
       "      <th>total_bedrooms</th>\n",
       "    </tr>\n",
       "  </thead>\n",
       "  <tbody>\n",
       "    <tr>\n",
       "      <td>0</td>\n",
       "      <td>-122.23</td>\n",
       "      <td>37.88</td>\n",
       "      <td>41</td>\n",
       "      <td>880</td>\n",
       "      <td>129.0</td>\n",
       "    </tr>\n",
       "    <tr>\n",
       "      <td>1</td>\n",
       "      <td>-122.22</td>\n",
       "      <td>37.86</td>\n",
       "      <td>21</td>\n",
       "      <td>7099</td>\n",
       "      <td>1106.0</td>\n",
       "    </tr>\n",
       "    <tr>\n",
       "      <td>2</td>\n",
       "      <td>-122.24</td>\n",
       "      <td>37.85</td>\n",
       "      <td>52</td>\n",
       "      <td>1467</td>\n",
       "      <td>900.0</td>\n",
       "    </tr>\n",
       "  </tbody>\n",
       "</table>\n",
       "</div>"
      ],
      "text/plain": [
       "   longitude  latitude  housing_median_age  total_rooms  total_bedrooms\n",
       "0    -122.23     37.88                  41          880           129.0\n",
       "1    -122.22     37.86                  21         7099          1106.0\n",
       "2    -122.24     37.85                  52         1467           900.0"
      ]
     },
     "execution_count": 22,
     "metadata": {},
     "output_type": "execute_result"
    }
   ],
   "source": [
    "df.iloc[0:3, 0:5]"
   ]
  },
  {
   "cell_type": "code",
   "execution_count": 23,
   "metadata": {},
   "outputs": [
    {
     "data": {
      "text/plain": [
       "longitude              -122.24\n",
       "latitude                 37.85\n",
       "housing_median_age          52\n",
       "total_rooms               1467\n",
       "total_bedrooms             900\n",
       "population                 496\n",
       "households                 177\n",
       "median_income           7.2574\n",
       "median_house_value      352100\n",
       "ocean_proximity       NEAR BAY\n",
       "Name: 2, dtype: object"
      ]
     },
     "execution_count": 23,
     "metadata": {},
     "output_type": "execute_result"
    }
   ],
   "source": [
    "df.iloc[2]"
   ]
  },
  {
   "cell_type": "code",
   "execution_count": 24,
   "metadata": {},
   "outputs": [
    {
     "data": {
      "text/plain": [
       "pandas.core.series.Series"
      ]
     },
     "execution_count": 24,
     "metadata": {},
     "output_type": "execute_result"
    }
   ],
   "source": [
    "type(df.iloc[2])"
   ]
  },
  {
   "cell_type": "code",
   "execution_count": 25,
   "metadata": {},
   "outputs": [
    {
     "data": {
      "text/html": [
       "<div>\n",
       "<style scoped>\n",
       "    .dataframe tbody tr th:only-of-type {\n",
       "        vertical-align: middle;\n",
       "    }\n",
       "\n",
       "    .dataframe tbody tr th {\n",
       "        vertical-align: top;\n",
       "    }\n",
       "\n",
       "    .dataframe thead th {\n",
       "        text-align: right;\n",
       "    }\n",
       "</style>\n",
       "<table border=\"1\" class=\"dataframe\">\n",
       "  <thead>\n",
       "    <tr style=\"text-align: right;\">\n",
       "      <th></th>\n",
       "      <th>longitude</th>\n",
       "      <th>latitude</th>\n",
       "      <th>housing_median_age</th>\n",
       "      <th>total_rooms</th>\n",
       "      <th>total_bedrooms</th>\n",
       "      <th>population</th>\n",
       "      <th>households</th>\n",
       "      <th>median_income</th>\n",
       "      <th>median_house_value</th>\n",
       "      <th>ocean_proximity</th>\n",
       "    </tr>\n",
       "  </thead>\n",
       "  <tbody>\n",
       "    <tr>\n",
       "      <td>0</td>\n",
       "      <td>-122.23</td>\n",
       "      <td>37.88</td>\n",
       "      <td>41</td>\n",
       "      <td>880</td>\n",
       "      <td>129.0</td>\n",
       "      <td>322</td>\n",
       "      <td>126</td>\n",
       "      <td>8.3252</td>\n",
       "      <td>452600.0</td>\n",
       "      <td>NEAR BAY</td>\n",
       "    </tr>\n",
       "    <tr>\n",
       "      <td>1</td>\n",
       "      <td>-122.22</td>\n",
       "      <td>37.86</td>\n",
       "      <td>21</td>\n",
       "      <td>7099</td>\n",
       "      <td>1106.0</td>\n",
       "      <td>2401</td>\n",
       "      <td>1138</td>\n",
       "      <td>8.3014</td>\n",
       "      <td>358500.0</td>\n",
       "      <td>NEAR BAY</td>\n",
       "    </tr>\n",
       "  </tbody>\n",
       "</table>\n",
       "</div>"
      ],
      "text/plain": [
       "   longitude  latitude  housing_median_age  total_rooms  total_bedrooms  \\\n",
       "0    -122.23     37.88                  41          880           129.0   \n",
       "1    -122.22     37.86                  21         7099          1106.0   \n",
       "\n",
       "   population  households  median_income  median_house_value ocean_proximity  \n",
       "0         322         126         8.3252            452600.0        NEAR BAY  \n",
       "1        2401        1138         8.3014            358500.0        NEAR BAY  "
      ]
     },
     "execution_count": 25,
     "metadata": {},
     "output_type": "execute_result"
    }
   ],
   "source": [
    "df.head(2)"
   ]
  },
  {
   "cell_type": "code",
   "execution_count": 26,
   "metadata": {},
   "outputs": [
    {
     "data": {
      "text/html": [
       "<div>\n",
       "<style scoped>\n",
       "    .dataframe tbody tr th:only-of-type {\n",
       "        vertical-align: middle;\n",
       "    }\n",
       "\n",
       "    .dataframe tbody tr th {\n",
       "        vertical-align: top;\n",
       "    }\n",
       "\n",
       "    .dataframe thead th {\n",
       "        text-align: right;\n",
       "    }\n",
       "</style>\n",
       "<table border=\"1\" class=\"dataframe\">\n",
       "  <thead>\n",
       "    <tr style=\"text-align: right;\">\n",
       "      <th></th>\n",
       "      <th>longitude</th>\n",
       "      <th>latitude</th>\n",
       "      <th>housing_median_age</th>\n",
       "      <th>total_rooms</th>\n",
       "      <th>total_bedrooms</th>\n",
       "      <th>population</th>\n",
       "      <th>households</th>\n",
       "      <th>median_income</th>\n",
       "      <th>median_house_value</th>\n",
       "      <th>ocean_proximity</th>\n",
       "    </tr>\n",
       "  </thead>\n",
       "  <tbody>\n",
       "    <tr>\n",
       "      <td>5984</td>\n",
       "      <td>-117.73</td>\n",
       "      <td>34.12</td>\n",
       "      <td>26</td>\n",
       "      <td>6459</td>\n",
       "      <td>894.0</td>\n",
       "      <td>2487</td>\n",
       "      <td>885</td>\n",
       "      <td>6.2089</td>\n",
       "      <td>261800.0</td>\n",
       "      <td>INLAND</td>\n",
       "    </tr>\n",
       "    <tr>\n",
       "      <td>5985</td>\n",
       "      <td>-117.71</td>\n",
       "      <td>34.10</td>\n",
       "      <td>41</td>\n",
       "      <td>555</td>\n",
       "      <td>130.0</td>\n",
       "      <td>1492</td>\n",
       "      <td>123</td>\n",
       "      <td>2.0000</td>\n",
       "      <td>NaN</td>\n",
       "      <td>NaN</td>\n",
       "    </tr>\n",
       "  </tbody>\n",
       "</table>\n",
       "</div>"
      ],
      "text/plain": [
       "      longitude  latitude  housing_median_age  total_rooms  total_bedrooms  \\\n",
       "5984    -117.73     34.12                  26         6459           894.0   \n",
       "5985    -117.71     34.10                  41          555           130.0   \n",
       "\n",
       "      population  households  median_income  median_house_value  \\\n",
       "5984        2487         885         6.2089            261800.0   \n",
       "5985        1492         123         2.0000                 NaN   \n",
       "\n",
       "     ocean_proximity  \n",
       "5984          INLAND  \n",
       "5985             NaN  "
      ]
     },
     "execution_count": 26,
     "metadata": {},
     "output_type": "execute_result"
    }
   ],
   "source": [
    "df.tail(2)"
   ]
  },
  {
   "cell_type": "code",
   "execution_count": 27,
   "metadata": {},
   "outputs": [
    {
     "data": {
      "text/plain": [
       "'NEAR BAY'"
      ]
     },
     "execution_count": 27,
     "metadata": {},
     "output_type": "execute_result"
    }
   ],
   "source": [
    "df.at[0, 'ocean_proximity']"
   ]
  },
  {
   "cell_type": "code",
   "execution_count": 28,
   "metadata": {},
   "outputs": [
    {
     "data": {
      "text/plain": [
       "129.0"
      ]
     },
     "execution_count": 28,
     "metadata": {},
     "output_type": "execute_result"
    }
   ],
   "source": [
    "df.iat[0, 4]"
   ]
  },
  {
   "cell_type": "code",
   "execution_count": 29,
   "metadata": {},
   "outputs": [],
   "source": [
    "households_greater_800 = df['households'] > 800"
   ]
  },
  {
   "cell_type": "code",
   "execution_count": 30,
   "metadata": {},
   "outputs": [
    {
     "data": {
      "text/plain": [
       "0       False\n",
       "1        True\n",
       "2       False\n",
       "3       False\n",
       "4       False\n",
       "        ...  \n",
       "5981    False\n",
       "5982     True\n",
       "5983     True\n",
       "5984     True\n",
       "5985    False\n",
       "Name: households, Length: 5986, dtype: bool"
      ]
     },
     "execution_count": 30,
     "metadata": {},
     "output_type": "execute_result"
    }
   ],
   "source": [
    "households_greater_800"
   ]
  },
  {
   "cell_type": "code",
   "execution_count": 31,
   "metadata": {},
   "outputs": [
    {
     "data": {
      "text/plain": [
       "pandas.core.series.Series"
      ]
     },
     "execution_count": 31,
     "metadata": {},
     "output_type": "execute_result"
    }
   ],
   "source": [
    "type(households_greater_800)"
   ]
  },
  {
   "cell_type": "code",
   "execution_count": 32,
   "metadata": {},
   "outputs": [
    {
     "data": {
      "text/html": [
       "<div>\n",
       "<style scoped>\n",
       "    .dataframe tbody tr th:only-of-type {\n",
       "        vertical-align: middle;\n",
       "    }\n",
       "\n",
       "    .dataframe tbody tr th {\n",
       "        vertical-align: top;\n",
       "    }\n",
       "\n",
       "    .dataframe thead th {\n",
       "        text-align: right;\n",
       "    }\n",
       "</style>\n",
       "<table border=\"1\" class=\"dataframe\">\n",
       "  <thead>\n",
       "    <tr style=\"text-align: right;\">\n",
       "      <th></th>\n",
       "      <th>longitude</th>\n",
       "      <th>latitude</th>\n",
       "      <th>housing_median_age</th>\n",
       "      <th>total_rooms</th>\n",
       "      <th>total_bedrooms</th>\n",
       "      <th>population</th>\n",
       "      <th>households</th>\n",
       "      <th>median_income</th>\n",
       "      <th>median_house_value</th>\n",
       "      <th>ocean_proximity</th>\n",
       "    </tr>\n",
       "  </thead>\n",
       "  <tbody>\n",
       "    <tr>\n",
       "      <td>1</td>\n",
       "      <td>-122.22</td>\n",
       "      <td>37.86</td>\n",
       "      <td>21</td>\n",
       "      <td>7099</td>\n",
       "      <td>1106.0</td>\n",
       "      <td>2401</td>\n",
       "      <td>1138</td>\n",
       "      <td>8.3014</td>\n",
       "      <td>358500.0</td>\n",
       "      <td>NEAR BAY</td>\n",
       "    </tr>\n",
       "    <tr>\n",
       "      <td>95</td>\n",
       "      <td>-122.26</td>\n",
       "      <td>37.80</td>\n",
       "      <td>36</td>\n",
       "      <td>5329</td>\n",
       "      <td>2477.0</td>\n",
       "      <td>3469</td>\n",
       "      <td>2323</td>\n",
       "      <td>2.0096</td>\n",
       "      <td>130000.0</td>\n",
       "      <td>NEAR BAY</td>\n",
       "    </tr>\n",
       "    <tr>\n",
       "      <td>96</td>\n",
       "      <td>-122.26</td>\n",
       "      <td>37.82</td>\n",
       "      <td>31</td>\n",
       "      <td>4596</td>\n",
       "      <td>1331.0</td>\n",
       "      <td>2048</td>\n",
       "      <td>1180</td>\n",
       "      <td>2.8345</td>\n",
       "      <td>183800.0</td>\n",
       "      <td>NEAR BAY</td>\n",
       "    </tr>\n",
       "    <tr>\n",
       "      <td>98</td>\n",
       "      <td>-122.26</td>\n",
       "      <td>37.82</td>\n",
       "      <td>22</td>\n",
       "      <td>3682</td>\n",
       "      <td>1270.0</td>\n",
       "      <td>2024</td>\n",
       "      <td>1250</td>\n",
       "      <td>1.2185</td>\n",
       "      <td>170000.0</td>\n",
       "      <td>NEAR BAY</td>\n",
       "    </tr>\n",
       "    <tr>\n",
       "      <td>99</td>\n",
       "      <td>-122.26</td>\n",
       "      <td>37.82</td>\n",
       "      <td>37</td>\n",
       "      <td>3633</td>\n",
       "      <td>1085.0</td>\n",
       "      <td>1838</td>\n",
       "      <td>980</td>\n",
       "      <td>2.6104</td>\n",
       "      <td>193100.0</td>\n",
       "      <td>NEAR BAY</td>\n",
       "    </tr>\n",
       "    <tr>\n",
       "      <td>...</td>\n",
       "      <td>...</td>\n",
       "      <td>...</td>\n",
       "      <td>...</td>\n",
       "      <td>...</td>\n",
       "      <td>...</td>\n",
       "      <td>...</td>\n",
       "      <td>...</td>\n",
       "      <td>...</td>\n",
       "      <td>...</td>\n",
       "      <td>...</td>\n",
       "    </tr>\n",
       "    <tr>\n",
       "      <td>5977</td>\n",
       "      <td>-117.78</td>\n",
       "      <td>34.11</td>\n",
       "      <td>23</td>\n",
       "      <td>7079</td>\n",
       "      <td>1381.0</td>\n",
       "      <td>3205</td>\n",
       "      <td>1327</td>\n",
       "      <td>3.0735</td>\n",
       "      <td>212300.0</td>\n",
       "      <td>INLAND</td>\n",
       "    </tr>\n",
       "    <tr>\n",
       "      <td>5979</td>\n",
       "      <td>-117.75</td>\n",
       "      <td>34.12</td>\n",
       "      <td>25</td>\n",
       "      <td>5411</td>\n",
       "      <td>998.0</td>\n",
       "      <td>2243</td>\n",
       "      <td>1019</td>\n",
       "      <td>4.3148</td>\n",
       "      <td>240700.0</td>\n",
       "      <td>INLAND</td>\n",
       "    </tr>\n",
       "    <tr>\n",
       "      <td>5982</td>\n",
       "      <td>-117.75</td>\n",
       "      <td>34.10</td>\n",
       "      <td>21</td>\n",
       "      <td>8069</td>\n",
       "      <td>2174.0</td>\n",
       "      <td>4369</td>\n",
       "      <td>2036</td>\n",
       "      <td>3.2756</td>\n",
       "      <td>156800.0</td>\n",
       "      <td>INLAND</td>\n",
       "    </tr>\n",
       "    <tr>\n",
       "      <td>5983</td>\n",
       "      <td>-117.71</td>\n",
       "      <td>34.12</td>\n",
       "      <td>20</td>\n",
       "      <td>11250</td>\n",
       "      <td>1893.0</td>\n",
       "      <td>4952</td>\n",
       "      <td>1859</td>\n",
       "      <td>5.6785</td>\n",
       "      <td>239500.0</td>\n",
       "      <td>INLAND</td>\n",
       "    </tr>\n",
       "    <tr>\n",
       "      <td>5984</td>\n",
       "      <td>-117.73</td>\n",
       "      <td>34.12</td>\n",
       "      <td>26</td>\n",
       "      <td>6459</td>\n",
       "      <td>894.0</td>\n",
       "      <td>2487</td>\n",
       "      <td>885</td>\n",
       "      <td>6.2089</td>\n",
       "      <td>261800.0</td>\n",
       "      <td>INLAND</td>\n",
       "    </tr>\n",
       "  </tbody>\n",
       "</table>\n",
       "<p>705 rows × 10 columns</p>\n",
       "</div>"
      ],
      "text/plain": [
       "      longitude  latitude  housing_median_age  total_rooms  total_bedrooms  \\\n",
       "1       -122.22     37.86                  21         7099          1106.0   \n",
       "95      -122.26     37.80                  36         5329          2477.0   \n",
       "96      -122.26     37.82                  31         4596          1331.0   \n",
       "98      -122.26     37.82                  22         3682          1270.0   \n",
       "99      -122.26     37.82                  37         3633          1085.0   \n",
       "...         ...       ...                 ...          ...             ...   \n",
       "5977    -117.78     34.11                  23         7079          1381.0   \n",
       "5979    -117.75     34.12                  25         5411           998.0   \n",
       "5982    -117.75     34.10                  21         8069          2174.0   \n",
       "5983    -117.71     34.12                  20        11250          1893.0   \n",
       "5984    -117.73     34.12                  26         6459           894.0   \n",
       "\n",
       "      population  households  median_income  median_house_value  \\\n",
       "1           2401        1138         8.3014            358500.0   \n",
       "95          3469        2323         2.0096            130000.0   \n",
       "96          2048        1180         2.8345            183800.0   \n",
       "98          2024        1250         1.2185            170000.0   \n",
       "99          1838         980         2.6104            193100.0   \n",
       "...          ...         ...            ...                 ...   \n",
       "5977        3205        1327         3.0735            212300.0   \n",
       "5979        2243        1019         4.3148            240700.0   \n",
       "5982        4369        2036         3.2756            156800.0   \n",
       "5983        4952        1859         5.6785            239500.0   \n",
       "5984        2487         885         6.2089            261800.0   \n",
       "\n",
       "     ocean_proximity  \n",
       "1           NEAR BAY  \n",
       "95          NEAR BAY  \n",
       "96          NEAR BAY  \n",
       "98          NEAR BAY  \n",
       "99          NEAR BAY  \n",
       "...              ...  \n",
       "5977          INLAND  \n",
       "5979          INLAND  \n",
       "5982          INLAND  \n",
       "5983          INLAND  \n",
       "5984          INLAND  \n",
       "\n",
       "[705 rows x 10 columns]"
      ]
     },
     "execution_count": 32,
     "metadata": {},
     "output_type": "execute_result"
    }
   ],
   "source": [
    "df[households_greater_800]"
   ]
  },
  {
   "cell_type": "code",
   "execution_count": null,
   "metadata": {},
   "outputs": [],
   "source": []
  }
 ],
 "metadata": {
  "kernelspec": {
   "display_name": "Python 3",
   "language": "python",
   "name": "python3"
  },
  "language_info": {
   "codemirror_mode": {
    "name": "ipython",
    "version": 3
   },
   "file_extension": ".py",
   "mimetype": "text/x-python",
   "name": "python",
   "nbconvert_exporter": "python",
   "pygments_lexer": "ipython3",
   "version": "3.7.4"
  }
 },
 "nbformat": 4,
 "nbformat_minor": 2
}
